{
 "cells": [
  {
   "cell_type": "code",
   "execution_count": 37,
   "metadata": {},
   "outputs": [
    {
     "name": "stdout",
     "output_type": "stream",
     "text": [
      "Input n = 4\n",
      "Output :\n",
      "1 3 5 7 "
     ]
    }
   ],
   "source": [
    "#Python program to print the pattern of odd numbers\n",
    "\n",
    "n = int(input(\"Input n = \"))\n",
    "odd = 1\n",
    "print(\"Output :\")\n",
    "for num in range(n):\n",
    "    print(odd, end=\" \")\n",
    "    odd+=2"
   ]
  },
  {
   "cell_type": "code",
   "execution_count": null,
   "metadata": {},
   "outputs": [],
   "source": []
  }
 ],
 "metadata": {
  "kernelspec": {
   "display_name": "Python 3",
   "language": "python",
   "name": "python3"
  },
  "language_info": {
   "codemirror_mode": {
    "name": "ipython",
    "version": 3
   },
   "file_extension": ".py",
   "mimetype": "text/x-python",
   "name": "python",
   "nbconvert_exporter": "python",
   "pygments_lexer": "ipython3",
   "version": "3.7.6"
  }
 },
 "nbformat": 4,
 "nbformat_minor": 4
}
