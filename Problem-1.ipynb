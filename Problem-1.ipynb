{
 "cells": [
  {
   "cell_type": "code",
   "execution_count": 1,
   "metadata": {},
   "outputs": [
    {
     "name": "stdout",
     "output_type": "stream",
     "text": [
      "\n",
      "Menu\n",
      "1. Addition\n",
      "2. Subtraction\n",
      "3. Multiplication\n",
      "4. Division\n",
      "5. Exit\n",
      "\n",
      "Enter your choice :5\n",
      "\n",
      "Exitingg\n"
     ]
    }
   ],
   "source": [
    "class calculator:\n",
    "    def add(self,a,b):\n",
    "        return a+b\n",
    "    \n",
    "    def sub(self,a,b):\n",
    "        return a-b\n",
    "        \n",
    "    def multiply(self,a,b):\n",
    "        return a*b\n",
    "    \n",
    "    def divide(self, a,b):\n",
    "        return a/b\n",
    "\n",
    "if __name__ == '__main__':\n",
    "    c = calculator()\n",
    "    while(True):\n",
    "        print(\"\\nMenu\")\n",
    "        print(\"1. Addition\\n2. Subtraction\\n3. Multiplication\\n4. Division\\n5. Exit\")\n",
    "        ch = int(input(\"\\nEnter your choice :\"))\n",
    "        \n",
    "        if ch==1:\n",
    "            a = float(input(\"Enter the first number :\"))\n",
    "            b = float(input(\"Enter the second number :\"))\n",
    "            print(\"\\nSum of two numbers are \",c.add(a,b))\n",
    "        elif ch==2:\n",
    "            a = float(input(\"Enter the first number :\"))\n",
    "            b = float(input(\"Enter the second number :\"))\n",
    "            print(\"\\nSubtraction of two numbers are \",c.sub(a,b))\n",
    "        elif ch==3:\n",
    "            a = float(input(\"Enter the first number :\"))\n",
    "            b = float(input(\"Enter the second number :\"))\n",
    "            print(\"\\nMultiplication of two numbers are :\",c.multiply(a,b))\n",
    "        elif ch==4:\n",
    "            a = float(input(\"Enter the first number :\"))\n",
    "            b = float(input(\"Enter the second number :\"))\n",
    "            print(\"\\nDivision of two numbers are \",c.divide(a,b))\n",
    "        elif ch==5:\n",
    "            print(\"\\nExitingg\")\n",
    "            break;\n",
    "        else:\n",
    "            print(\"\\nInvalid Choice. Try again\")"
   ]
  },
  {
   "cell_type": "code",
   "execution_count": null,
   "metadata": {},
   "outputs": [],
   "source": []
  }
 ],
 "metadata": {
  "kernelspec": {
   "display_name": "Python 3",
   "language": "python",
   "name": "python3"
  },
  "language_info": {
   "codemirror_mode": {
    "name": "ipython",
    "version": 3
   },
   "file_extension": ".py",
   "mimetype": "text/x-python",
   "name": "python",
   "nbconvert_exporter": "python",
   "pygments_lexer": "ipython3",
   "version": "3.7.6"
  }
 },
 "nbformat": 4,
 "nbformat_minor": 4
}
